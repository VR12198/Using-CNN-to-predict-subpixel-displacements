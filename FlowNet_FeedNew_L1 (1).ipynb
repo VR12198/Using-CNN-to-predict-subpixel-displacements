{
  "nbformat": 4,
  "nbformat_minor": 0,
  "metadata": {
    "colab": {
      "name": "FlowNet_FeedNew(3) .ipynb",
      "provenance": [],
      "collapsed_sections": []
    },
    "kernelspec": {
      "name": "python3",
      "display_name": "Python 3"
    },
    "language_info": {
      "name": "python"
    },
    "accelerator": "GPU",
    "gpuClass": "standard"
  },
  "cells": [
    {
      "cell_type": "code",
      "execution_count": 1,
      "metadata": {
        "id": "gPhbGn_y6Tdh"
      },
      "outputs": [],
      "source": [
        "import os\n",
        "import shutil\n",
        "import numpy as np\n",
        "import matplotlib.pyplot as plt\n",
        "import pandas as pd\n",
        "from google.colab.patches import cv2_imshow\n",
        "import cv2\n",
        "from google.colab import files\n",
        "from tqdm import tqdm\n",
        "from tqdm.notebook import tqdm_notebook"
      ]
    },
    {
      "cell_type": "code",
      "source": [
        "import torch\n",
        "from torch.autograd import Variable\n",
        "import torch.nn as nn\n",
        "import torch.optim as optim\n",
        "import torch.nn.functional as F\n",
        "from torch.utils.data import Dataset, DataLoader, random_split\n",
        "from torchvision import transforms"
      ],
      "metadata": {
        "id": "zJ5UIupG8Dw5"
      },
      "execution_count": 2,
      "outputs": []
    },
    {
      "cell_type": "code",
      "source": [
        "try:\n",
        "  shutil.rmtree('/content/sample_data')\n",
        "except:\n",
        "  pass"
      ],
      "metadata": {
        "id": "TGe9lvMc8I6U"
      },
      "execution_count": 3,
      "outputs": []
    },
    {
      "cell_type": "code",
      "source": [
        "!wget -q \"https://iitk-my.sharepoint.com/:u:/g/personal/varunr21_iitk_ac_in/EX3NyyJYkv1MioxeWD5JdcUBAyB9zzBBfpTdDrg41hLnww?e=1kIdTQ&download=1\" -P \"/content/\" -O \"Input.zip\"\n",
        "!wget -q \"https://iitk-my.sharepoint.com/:u:/g/personal/varunr21_iitk_ac_in/Eb6Ch3nfZ_9MqmJkCu4Vqb0B5vd_SAaHxt3Zs6kWVzmntQ?e=5YB4bh&download=1\" -P \"/content/\" -O \"Output.zip\""
      ],
      "metadata": {
        "id": "RSkEZceT8SIp"
      },
      "execution_count": 4,
      "outputs": []
    },
    {
      "cell_type": "code",
      "source": [
        "!unzip -q Input.zip \n",
        "!unzip -q Output.zip \n",
        "history = []"
      ],
      "metadata": {
        "id": "ryR5X1pl8Yua",
        "colab": {
          "base_uri": "https://localhost:8080/"
        },
        "outputId": "3fe93f70-f21f-4545-d480-fce01d756ffe"
      },
      "execution_count": 5,
      "outputs": [
        {
          "output_type": "stream",
          "name": "stdout",
          "text": [
            "warning [Input.zip]:  76 extra bytes at beginning or within zipfile\n",
            "  (attempting to process anyway)\n",
            "error [Input.zip]:  reported length of central directory is\n",
            "  -76 bytes too long (Atari STZip zipfile?  J.H.Holm ZIPSPLIT 1.1\n",
            "  zipfile?).  Compensating...\n",
            "error:  expected central file header signature not found (file #85630).\n",
            "  (please check that you have transferred or created the zipfile in the\n",
            "  appropriate BINARY mode and that you have compiled UnZip properly)\n",
            "warning [Output.zip]:  76 extra bytes at beginning or within zipfile\n",
            "  (attempting to process anyway)\n",
            "error [Output.zip]:  reported length of central directory is\n",
            "  -76 bytes too long (Atari STZip zipfile?  J.H.Holm ZIPSPLIT 1.1\n",
            "  zipfile?).  Compensating...\n",
            "error:  expected central file header signature not found (file #85630).\n",
            "  (please check that you have transferred or created the zipfile in the\n",
            "  appropriate BINARY mode and that you have compiled UnZip properly)\n"
          ]
        }
      ]
    },
    {
      "cell_type": "code",
      "source": [
        "from scipy.io import loadmat\n",
        "\n",
        "def Load(output,idx):\n",
        "  output = loadmat(output[idx])\n",
        "  output = np.array(output['temp_u'])\n",
        "  return output"
      ],
      "metadata": {
        "id": "4Lgat65n2YBc"
      },
      "execution_count": 6,
      "outputs": []
    },
    {
      "cell_type": "code",
      "source": [
        "def Stack(input,idx):\n",
        "  sample=[]  \n",
        "  im_0 = cv2.cvtColor(cv2.imread(input[0]),cv2.COLOR_RGB2GRAY) \n",
        "  im = cv2.cvtColor(cv2.imread(input[idx]),cv2.COLOR_RGB2GRAY)\n",
        "  sample = np.stack((im_0,im),axis=0)\n",
        "  return sample"
      ],
      "metadata": {
        "id": "edIdTb0DtOIJ"
      },
      "execution_count": 7,
      "outputs": []
    },
    {
      "cell_type": "code",
      "source": [
        "k=0\n",
        "dir='/content/Input2/Training'\n",
        "path='/content/Training_Input'\n",
        "os.mkdir(path)\n",
        "for folder in sorted(os.listdir(dir)):\n",
        "  root=os.path.join(dir,folder)\n",
        "  list_path = [os.path.join(root, file) for file in sorted(os.listdir(root))]\n",
        "  for i in range(len(list_path)):\n",
        "    filename = 'Input_%06d' % (k)\n",
        "    img=Stack(list_path,i)\n",
        "    name=os.path.join(path,filename)\n",
        "    np.save(name,img)\n",
        "    k=k+1"
      ],
      "metadata": {
        "id": "pTNhqPZrt8Pv"
      },
      "execution_count": 8,
      "outputs": []
    },
    {
      "cell_type": "code",
      "source": [
        "k=0\n",
        "dir='/content/Output2/Train'\n",
        "path='/content/Training_Output'\n",
        "os.mkdir(path)\n",
        "for folder in sorted(os.listdir(dir)):\n",
        "  root=os.path.join(dir,folder)\n",
        "  list_path = [os.path.join(root, file) for file in sorted(os.listdir(root))]\n",
        "  for i in range(len(list_path)):\n",
        "    filename = 'Output_%06d' % (k)\n",
        "    u=Load(list_path,i)\n",
        "    name=os.path.join(path,filename)\n",
        "    np.save(name,u)\n",
        "    k=k+1"
      ],
      "metadata": {
        "id": "i6qzvv2k1oZE"
      },
      "execution_count": 9,
      "outputs": []
    },
    {
      "cell_type": "code",
      "source": [
        "Input_dir='/content/Training_Input'\n",
        "Output_dir='/content/Training_Output'\n",
        "\n",
        "input_files = [os.path.join(Input_dir, file) for file in sorted(os.listdir(Input_dir))]\n",
        "output_files = [os.path.join(Output_dir, file) for file in sorted(os.listdir(Output_dir))]"
      ],
      "metadata": {
        "id": "cz53d7nN2n6f"
      },
      "execution_count": 10,
      "outputs": []
    },
    {
      "cell_type": "code",
      "source": [
        "class StackDataset(Dataset):\n",
        "  def __init__(self, input, output, transform = None):\n",
        "    self.input = input\n",
        "    self.output = output\n",
        "    self.transform = transform\n",
        "  \n",
        "  def __len__(self):\n",
        "    return len(self.input)\n",
        "  \n",
        "  def __getitem__(self, idx):\n",
        "    if torch.is_tensor(idx):\n",
        "      idx = idx.cpu().detach().numpy()\n",
        "\n",
        "    sample = [np.load(self.input[idx]),np.load(self.output[idx])]\n",
        "      \n",
        "    if self.transform:\n",
        "      sample = self.transform(sample)\n",
        "\n",
        "    return sample\n",
        "\n",
        "class ToTensor(object):\n",
        "    \"\"\"Convert ndarrays in sample to Tensors.\"\"\"\n",
        "\n",
        "    def __call__(self, sample):\n",
        "        input, output = sample\n",
        "\n",
        "        return torch.from_numpy(input),torch.from_numpy(output)"
      ],
      "metadata": {
        "id": "wlXpLWWjzSCv"
      },
      "execution_count": 11,
      "outputs": []
    },
    {
      "cell_type": "code",
      "source": [
        "dataset = StackDataset(input= input_files, \n",
        "                       output = output_files, \n",
        "                       transform=ToTensor())\n",
        "\n",
        "for i in range(len(dataset)):\n",
        "    input,output = dataset[i]\n",
        "\n",
        "    print(i, \n",
        "          type(input),\n",
        "          input.size(), \n",
        "          output.size())\n",
        "\n",
        "    if i == 3:\n",
        "        break"
      ],
      "metadata": {
        "colab": {
          "base_uri": "https://localhost:8080/"
        },
        "id": "0Vyc-ra-1xy7",
        "outputId": "de2e75e2-5c6a-40a2-b07f-58aea1c8b834"
      },
      "execution_count": 12,
      "outputs": [
        {
          "output_type": "stream",
          "name": "stdout",
          "text": [
            "0 <class 'torch.Tensor'> torch.Size([2, 48, 48]) torch.Size([48, 48])\n",
            "1 <class 'torch.Tensor'> torch.Size([2, 48, 48]) torch.Size([48, 48])\n",
            "2 <class 'torch.Tensor'> torch.Size([2, 48, 48]) torch.Size([48, 48])\n",
            "3 <class 'torch.Tensor'> torch.Size([2, 48, 48]) torch.Size([48, 48])\n"
          ]
        }
      ]
    },
    {
      "cell_type": "code",
      "source": [
        "random_seed=42\n",
        "torch.manual_seed(random_seed)"
      ],
      "metadata": {
        "colab": {
          "base_uri": "https://localhost:8080/"
        },
        "id": "_dLID8wN9uL0",
        "outputId": "eed2a514-e09b-4c40-a033-2199284cdd57"
      },
      "execution_count": 13,
      "outputs": [
        {
          "output_type": "execute_result",
          "data": {
            "text/plain": [
              "<torch._C.Generator at 0x7fd6d86f0cb0>"
            ]
          },
          "metadata": {},
          "execution_count": 13
        }
      ]
    },
    {
      "cell_type": "code",
      "source": [
        "val_size = 15000\n",
        "train_size = len(dataset)-val_size\n",
        "train_ds,val_ds = random_split(dataset,[train_size,val_size])\n",
        "len(train_ds),len(val_ds)"
      ],
      "metadata": {
        "colab": {
          "base_uri": "https://localhost:8080/"
        },
        "id": "PBNzLR0l90Iy",
        "outputId": "016aab5f-ffc5-48d1-d058-6e28dc250310"
      },
      "execution_count": 14,
      "outputs": [
        {
          "output_type": "execute_result",
          "data": {
            "text/plain": [
              "(69973, 15000)"
            ]
          },
          "metadata": {},
          "execution_count": 14
        }
      ]
    },
    {
      "cell_type": "code",
      "source": [
        "batch_size =300"
      ],
      "metadata": {
        "id": "Zmw2nOm4-MOJ"
      },
      "execution_count": 15,
      "outputs": []
    },
    {
      "cell_type": "code",
      "source": [
        "train_dl = DataLoader(train_ds,batch_size,shuffle = True,num_workers = 2,pin_memory = True)\n",
        "val_dl = DataLoader(val_ds,batch_size*2,num_workers = 2,pin_memory = True)"
      ],
      "metadata": {
        "id": "vdF9zyt5-a44"
      },
      "execution_count": 16,
      "outputs": []
    },
    {
      "cell_type": "code",
      "source": [
        "def get_default_device():\n",
        "    if torch.cuda.is_available():\n",
        "        return torch.device('cuda')\n",
        "    else:\n",
        "        return torch.device('cpu')\n",
        "    \n",
        "def to_device(data,device):\n",
        "    if isinstance(data,(list,tuple)):\n",
        "        return [to_device(x,device) for x in data]\n",
        "    return data.to(device,non_blocking=True)\n",
        "\n",
        "class DataDeviceLoader():\n",
        "    def __init__(self,dl,device):\n",
        "        self.dl=dl\n",
        "        self.device=device\n",
        "        \n",
        "    def __iter__(self):\n",
        "        for b in self.dl:\n",
        "            yield to_device(b,self.device)\n",
        "    \n",
        "    def __len__(self):\n",
        "        return len(self.dl)"
      ],
      "metadata": {
        "id": "isSVgq1Kld-Y"
      },
      "execution_count": 17,
      "outputs": []
    },
    {
      "cell_type": "code",
      "source": [
        "EPE=nn.L1Loss()"
      ],
      "metadata": {
        "id": "g7TWQoi2p-2f"
      },
      "execution_count": 29,
      "outputs": []
    },
    {
      "cell_type": "code",
      "source": [
        "class FlowBase(nn.Module):\n",
        "    \n",
        "    def training_step(self,batch):\n",
        "        images,u = batch\n",
        "        u = u[:,None,:,:]\n",
        "        out = self(images)\n",
        "        loss = EPE(out,u)*1e5\n",
        "        return loss\n",
        "    \n",
        "    def validation_step(self,batch):\n",
        "        images,u = batch\n",
        "        u = u[:,None,:,:]\n",
        "        out=self(images)\n",
        "        loss = EPE(out,u)*1e5\n",
        "        return {'val_loss':loss}\n",
        "    \n",
        "    def validation_epoch_end(self,outputs):\n",
        "        batch_losses = [x['val_loss'] for x in outputs]\n",
        "        epoch_loss  = torch.stack(batch_losses).mean()\n",
        "        return {'val_loss': epoch_loss.item()}\n",
        "    \n",
        "    def epoch_end(self,epoch,result):\n",
        "        print(\"Epoch [{}], train_loss: {:.4f}, val_loss: {:.4f}\".format(\n",
        "            epoch, result['train_loss'], result['val_loss']))"
      ],
      "metadata": {
        "id": "3GQiW_Rorm-4"
      },
      "execution_count": 30,
      "outputs": []
    },
    {
      "cell_type": "code",
      "source": [
        "class FlowNetS(FlowBase):\n",
        "    \n",
        "    def __init__(self):\n",
        "        super().__init__()\n",
        "        self.conv1   = nn.Conv2d( 2,   8, kernel_size=7, stride=1,padding='same')\n",
        "        self.conv2   = nn.Conv2d( 8,  16, kernel_size=5, stride=2,padding = 2)\n",
        "        self.conv3   = nn.Conv2d(16,  32, kernel_size=3, stride=2,padding = 1)\n",
        "        self.conv4   = nn.Conv2d(32,  64, kernel_size=3, stride=2,padding = 1)\n",
        "     \n",
        "        self.deconv1 = nn.ConvTranspose2d(64,32,kernel_size=4,stride=2,padding=1)\n",
        "        self.deconv2 = nn.ConvTranspose2d(64,32,kernel_size=4,stride=2,padding=1)\n",
        "        self.deconv3 = nn.ConvTranspose2d(48,24,kernel_size=3,stride=2,output_padding=1,padding=1)\n",
        "\n",
        "        self.conv5   = nn.Conv2d(32,  16, kernel_size=3, stride=1, padding=1)\n",
        "        self.conv6   = nn.Conv2d(16,  1, kernel_size=3, stride=1, padding=1)\n",
        "        \n",
        "\n",
        "    \n",
        "    def forward(self, x):\n",
        "      x = x.float() # 2x50x50\n",
        "      x1 = F.leaky_relu(self.conv1(x)) # 8x50x50\n",
        "      x2 = F.leaky_relu(self.conv2(x1)) # 16x50x50\n",
        "      x3 = F.leaky_relu(self.conv3(x2)) # 32x50x50\n",
        "      x4 = F.leaky_relu(self.conv4(x3)) # 64x50x50\n",
        "      x5 = F.leaky_relu(self.deconv1(x4)) # 32x50x50 + 32x50x50\n",
        "      x6 = F.leaky_relu(self.deconv2(torch.cat([x5,x3],1))) # 32x50x50 + 16x50x50\n",
        "      x7 = F.leaky_relu(self.deconv3(torch.cat([x6,x2],1))) # 24x50x50 + 8x50x50\n",
        "      x8 = F.leaky_relu(self.conv5(torch.cat([x7,x1],1))) # 16x50x50\n",
        "      xout = self.conv6(x8) # 1x50x50\n",
        "    \n",
        "      return xout.double()"
      ],
      "metadata": {
        "id": "QViXHYgf8dWL"
      },
      "execution_count": 31,
      "outputs": []
    },
    {
      "cell_type": "code",
      "source": [
        "model = FlowNetS()\n",
        "model"
      ],
      "metadata": {
        "id": "B1-jtBaw_M5g",
        "colab": {
          "base_uri": "https://localhost:8080/"
        },
        "outputId": "4b04cbf0-ce7f-45bb-d260-4e85e1c964a8"
      },
      "execution_count": 21,
      "outputs": [
        {
          "output_type": "execute_result",
          "data": {
            "text/plain": [
              "FlowNetS(\n",
              "  (conv1): Conv2d(2, 8, kernel_size=(7, 7), stride=(1, 1), padding=same)\n",
              "  (conv2): Conv2d(8, 16, kernel_size=(5, 5), stride=(2, 2), padding=(2, 2))\n",
              "  (conv3): Conv2d(16, 32, kernel_size=(3, 3), stride=(2, 2), padding=(1, 1))\n",
              "  (conv4): Conv2d(32, 64, kernel_size=(3, 3), stride=(2, 2), padding=(1, 1))\n",
              "  (deconv1): ConvTranspose2d(64, 32, kernel_size=(4, 4), stride=(2, 2), padding=(1, 1))\n",
              "  (deconv2): ConvTranspose2d(64, 32, kernel_size=(4, 4), stride=(2, 2), padding=(1, 1))\n",
              "  (deconv3): ConvTranspose2d(48, 24, kernel_size=(3, 3), stride=(2, 2), padding=(1, 1), output_padding=(1, 1))\n",
              "  (conv5): Conv2d(32, 16, kernel_size=(3, 3), stride=(1, 1), padding=(1, 1))\n",
              "  (conv6): Conv2d(16, 1, kernel_size=(3, 3), stride=(1, 1), padding=(1, 1))\n",
              ")"
            ]
          },
          "metadata": {},
          "execution_count": 21
        }
      ]
    },
    {
      "cell_type": "code",
      "source": [
        "for images,u in train_dl:\n",
        "    print('Input Shape: ',images.shape)\n",
        "    out = model(images)\n",
        "    out=torch.squeeze(out,dim=1)\n",
        "    print('Output Shape: ',out.shape,u.shape,u.dtype,out.dtype)\n",
        "    break"
      ],
      "metadata": {
        "id": "mq6a5UtW_RpU",
        "colab": {
          "base_uri": "https://localhost:8080/"
        },
        "outputId": "d965c88c-fdae-4899-fd4e-4c8539ecf386"
      },
      "execution_count": 22,
      "outputs": [
        {
          "output_type": "stream",
          "name": "stdout",
          "text": [
            "Input Shape:  torch.Size([300, 2, 48, 48])\n",
            "Output Shape:  torch.Size([300, 48, 48]) torch.Size([300, 48, 48]) torch.float64 torch.float64\n"
          ]
        }
      ]
    },
    {
      "cell_type": "code",
      "source": [
        "device = get_default_device()\n",
        "device"
      ],
      "metadata": {
        "colab": {
          "base_uri": "https://localhost:8080/"
        },
        "id": "4PXBABL2-5y6",
        "outputId": "cd2a1368-366a-43a0-de1a-7c319705be79"
      },
      "execution_count": 23,
      "outputs": [
        {
          "output_type": "execute_result",
          "data": {
            "text/plain": [
              "device(type='cuda')"
            ]
          },
          "metadata": {},
          "execution_count": 23
        }
      ]
    },
    {
      "cell_type": "code",
      "source": [
        "train_dl  = DataDeviceLoader(train_dl,device)\n",
        "val_dl = DataDeviceLoader(val_dl,device)"
      ],
      "metadata": {
        "id": "sonuGBN2MpkF"
      },
      "execution_count": 24,
      "outputs": []
    },
    {
      "cell_type": "code",
      "source": [
        "to_device(model,device)"
      ],
      "metadata": {
        "id": "HsUSntM8eYEF",
        "colab": {
          "base_uri": "https://localhost:8080/"
        },
        "outputId": "a6c7aaa7-9de1-40aa-def3-d6806c7c79e0"
      },
      "execution_count": 25,
      "outputs": [
        {
          "output_type": "execute_result",
          "data": {
            "text/plain": [
              "FlowNetS(\n",
              "  (conv1): Conv2d(2, 8, kernel_size=(7, 7), stride=(1, 1), padding=same)\n",
              "  (conv2): Conv2d(8, 16, kernel_size=(5, 5), stride=(2, 2), padding=(2, 2))\n",
              "  (conv3): Conv2d(16, 32, kernel_size=(3, 3), stride=(2, 2), padding=(1, 1))\n",
              "  (conv4): Conv2d(32, 64, kernel_size=(3, 3), stride=(2, 2), padding=(1, 1))\n",
              "  (deconv1): ConvTranspose2d(64, 32, kernel_size=(4, 4), stride=(2, 2), padding=(1, 1))\n",
              "  (deconv2): ConvTranspose2d(64, 32, kernel_size=(4, 4), stride=(2, 2), padding=(1, 1))\n",
              "  (deconv3): ConvTranspose2d(48, 24, kernel_size=(3, 3), stride=(2, 2), padding=(1, 1), output_padding=(1, 1))\n",
              "  (conv5): Conv2d(32, 16, kernel_size=(3, 3), stride=(1, 1), padding=(1, 1))\n",
              "  (conv6): Conv2d(16, 1, kernel_size=(3, 3), stride=(1, 1), padding=(1, 1))\n",
              ")"
            ]
          },
          "metadata": {},
          "execution_count": 25
        }
      ]
    },
    {
      "cell_type": "code",
      "source": [
        "@torch.no_grad()\n",
        "def evaluate(model,val_loader):\n",
        "    model.eval()\n",
        "    outputs = [model.validation_step(batch) for batch in val_loader]\n",
        "    return model.validation_epoch_end(outputs)\n",
        "\n",
        "def fit(epochs,lr,model,train_loader,val_loader,opt_func=torch.optim.Adam,history=[]):\n",
        "    optimizer = opt_func(model.parameters(),lr)\n",
        "    for epoch in range(epochs):\n",
        "        model.train()\n",
        "        train_losses = []\n",
        "        for batch in train_loader:\n",
        "            loss = model.training_step(batch)\n",
        "            train_losses.append(loss)\n",
        "            loss.backward()\n",
        "            optimizer.step()\n",
        "            optimizer.zero_grad()\n",
        "            \n",
        "        result = evaluate(model,val_loader)\n",
        "        result['train_loss'] = torch.stack(train_losses).mean().item()\n",
        "        model.epoch_end(epoch,result)\n",
        "        history.append(result)\n",
        "    \n",
        "    return history"
      ],
      "metadata": {
        "id": "Y0Nw9HfzM953"
      },
      "execution_count": 26,
      "outputs": []
    },
    {
      "cell_type": "code",
      "source": [
        "model=to_device(FlowNetS(),device)"
      ],
      "metadata": {
        "id": "ZKvfl08ugPBB"
      },
      "execution_count": 27,
      "outputs": []
    },
    {
      "cell_type": "code",
      "source": [
        "evaluate(model,val_dl)"
      ],
      "metadata": {
        "colab": {
          "base_uri": "https://localhost:8080/"
        },
        "id": "xUR_gkA8NZMj",
        "outputId": "fc785271-bc54-4882-adb4-35f70c34cae8"
      },
      "execution_count": 32,
      "outputs": [
        {
          "output_type": "execute_result",
          "data": {
            "text/plain": [
              "{'val_loss': 129509.24295706266}"
            ]
          },
          "metadata": {},
          "execution_count": 32
        }
      ]
    },
    {
      "cell_type": "code",
      "source": [
        "num_epochs = 20\n",
        "opt_func = torch.optim.Adam\n",
        "lr = 0.001"
      ],
      "metadata": {
        "id": "2ywqAzA7NVkw"
      },
      "execution_count": 33,
      "outputs": []
    },
    {
      "cell_type": "code",
      "source": [
        "history = fit(num_epochs,lr,model,train_dl,val_dl,opt_func,history)"
      ],
      "metadata": {
        "colab": {
          "base_uri": "https://localhost:8080/"
        },
        "id": "dwqiED7eQE6y",
        "outputId": "52f869f6-d70e-4021-bf1c-19c5cf78cc04"
      },
      "execution_count": 34,
      "outputs": [
        {
          "output_type": "stream",
          "name": "stdout",
          "text": [
            "Epoch [0], train_loss: 7008.2535, val_loss: 1722.9275\n",
            "Epoch [1], train_loss: 1371.8260, val_loss: 1043.9045\n",
            "Epoch [2], train_loss: 862.0961, val_loss: 762.8245\n",
            "Epoch [3], train_loss: 603.4117, val_loss: 544.1624\n",
            "Epoch [4], train_loss: 451.8978, val_loss: 395.7077\n",
            "Epoch [5], train_loss: 359.3613, val_loss: 316.0986\n",
            "Epoch [6], train_loss: 294.2245, val_loss: 283.9340\n",
            "Epoch [7], train_loss: 246.9156, val_loss: 231.0697\n",
            "Epoch [8], train_loss: 213.1042, val_loss: 188.3499\n",
            "Epoch [9], train_loss: 185.8849, val_loss: 168.2587\n",
            "Epoch [10], train_loss: 165.9143, val_loss: 158.1566\n",
            "Epoch [11], train_loss: 149.8884, val_loss: 142.3342\n",
            "Epoch [12], train_loss: 136.8093, val_loss: 122.3352\n",
            "Epoch [13], train_loss: 125.1826, val_loss: 118.2522\n",
            "Epoch [14], train_loss: 115.8157, val_loss: 115.1719\n",
            "Epoch [15], train_loss: 107.3862, val_loss: 103.2371\n",
            "Epoch [16], train_loss: 99.4916, val_loss: 89.7632\n",
            "Epoch [17], train_loss: 91.8007, val_loss: 92.4597\n",
            "Epoch [18], train_loss: 85.7118, val_loss: 74.3484\n",
            "Epoch [19], train_loss: 79.5494, val_loss: 71.8933\n"
          ]
        }
      ]
    },
    {
      "cell_type": "code",
      "source": [
        "def plot_losses(history):\n",
        "    train_losses = [x['train_loss'] for x in history]\n",
        "    val_losses = [x['val_loss'] for x in history]\n",
        "    plt.plot(train_losses[1:], '-bx')\n",
        "    plt.plot(val_losses[1:], '-rx')\n",
        "    plt.xlabel('epoch')\n",
        "    plt.ylabel('loss')\n",
        "    plt.legend(['Training','Validation'])\n",
        "    plt.title('Loss vs. No. of epochs');"
      ],
      "metadata": {
        "id": "IT57zQreWcZw"
      },
      "execution_count": 35,
      "outputs": []
    },
    {
      "cell_type": "code",
      "source": [
        "plot_losses(history)"
      ],
      "metadata": {
        "id": "S8YWMNBhWpyk",
        "colab": {
          "base_uri": "https://localhost:8080/",
          "height": 295
        },
        "outputId": "924cc143-e239-4f56-9d93-e6dbc053828c"
      },
      "execution_count": 36,
      "outputs": [
        {
          "output_type": "display_data",
          "data": {
            "text/plain": [
              "<Figure size 432x288 with 1 Axes>"
            ],
            "image/png": "[encoded data removed]"
          },
          "metadata": {
            "needs_background": "light"
          }
        }
      ]
    },
    {
      "cell_type": "code",
      "source": [
        "import pickle\n",
        "with open(\"history\", \"wb\") as fp:\n",
        "  pickle.dump(history, fp)"
      ],
      "metadata": {
        "id": "tlizj8awUOVs"
      },
      "execution_count": null,
      "outputs": []
    },
    {
      "cell_type": "code",
      "source": [
        "with open(\"history\", \"r\") as fp:\n",
        "  b = pickle.load(fp)"
      ],
      "metadata": {
        "colab": {
          "base_uri": "https://localhost:8080/",
          "height": 182
        },
        "id": "4zfm7EkTU9F0",
        "outputId": "5f130ae6-6e64-4fe8-f899-c8530eb1802b"
      },
      "execution_count": null,
      "outputs": [
        {
          "output_type": "error",
          "ename": "FileNotFoundError",
          "evalue": "ignored",
          "traceback": [
            "\u001b[0;31m---------------------------------------------------------------------------\u001b[0m",
            "\u001b[0;31mFileNotFoundError\u001b[0m                         Traceback (most recent call last)",
            "\u001b[0;32m<ipython-input-85-c455bddb23bb>\u001b[0m in \u001b[0;36m<module>\u001b[0;34m()\u001b[0m\n\u001b[0;32m----> 1\u001b[0;31m \u001b[0;32mwith\u001b[0m \u001b[0mopen\u001b[0m\u001b[0;34m(\u001b[0m\u001b[0;34m\"test\"\u001b[0m\u001b[0;34m,\u001b[0m \u001b[0;34m\"r\"\u001b[0m\u001b[0;34m)\u001b[0m \u001b[0;32mas\u001b[0m \u001b[0mfp\u001b[0m\u001b[0;34m:\u001b[0m\u001b[0;34m\u001b[0m\u001b[0;34m\u001b[0m\u001b[0m\n\u001b[0m\u001b[1;32m      2\u001b[0m   \u001b[0mb\u001b[0m \u001b[0;34m=\u001b[0m \u001b[0mpickle\u001b[0m\u001b[0;34m.\u001b[0m\u001b[0mload\u001b[0m\u001b[0;34m(\u001b[0m\u001b[0mfp\u001b[0m\u001b[0;34m)\u001b[0m\u001b[0;34m\u001b[0m\u001b[0;34m\u001b[0m\u001b[0m\n",
            "\u001b[0;31mFileNotFoundError\u001b[0m: [Errno 2] No such file or directory: 'test'"
          ]
        }
      ]
    },
    {
      "cell_type": "code",
      "source": [
        "model = to_device(FlowNetS(),device)"
      ],
      "metadata": {
        "id": "5JlnuFiiTn41",
        "colab": {
          "base_uri": "https://localhost:8080/",
          "height": 165
        },
        "outputId": "7c61c23a-94a0-4944-df44-1f6233a4c101"
      },
      "execution_count": null,
      "outputs": [
        {
          "output_type": "error",
          "ename": "NameError",
          "evalue": "ignored",
          "traceback": [
            "\u001b[0;31m---------------------------------------------------------------------------\u001b[0m",
            "\u001b[0;31mNameError\u001b[0m                                 Traceback (most recent call last)",
            "\u001b[0;32m<ipython-input-1-c01c44cef3c8>\u001b[0m in \u001b[0;36m<module>\u001b[0;34m()\u001b[0m\n\u001b[0;32m----> 1\u001b[0;31m \u001b[0mmodel\u001b[0m \u001b[0;34m=\u001b[0m \u001b[0mto_device\u001b[0m\u001b[0;34m(\u001b[0m\u001b[0mFlowNetS\u001b[0m\u001b[0;34m(\u001b[0m\u001b[0;34m)\u001b[0m\u001b[0;34m,\u001b[0m\u001b[0mdevice\u001b[0m\u001b[0;34m)\u001b[0m\u001b[0;34m\u001b[0m\u001b[0;34m\u001b[0m\u001b[0m\n\u001b[0m",
            "\u001b[0;31mNameError\u001b[0m: name 'to_device' is not defined"
          ]
        }
      ]
    },
    {
      "cell_type": "code",
      "source": [
        "model.load_state_dict(torch.load('FlowNet_Mod.pth'))"
      ],
      "metadata": {
        "colab": {
          "base_uri": "https://localhost:8080/",
          "height": 165
        },
        "id": "-AGGcqhqTy82",
        "outputId": "a6d92d41-4684-4701-f8de-d8ac78512f89"
      },
      "execution_count": null,
      "outputs": [
        {
          "output_type": "error",
          "ename": "NameError",
          "evalue": "ignored",
          "traceback": [
            "\u001b[0;31m---------------------------------------------------------------------------\u001b[0m",
            "\u001b[0;31mNameError\u001b[0m                                 Traceback (most recent call last)",
            "\u001b[0;32m<ipython-input-2-149bb3f3291a>\u001b[0m in \u001b[0;36m<module>\u001b[0;34m()\u001b[0m\n\u001b[0;32m----> 1\u001b[0;31m \u001b[0mmodel\u001b[0m\u001b[0;34m.\u001b[0m\u001b[0mload_state_dict\u001b[0m\u001b[0;34m(\u001b[0m\u001b[0mtorch\u001b[0m\u001b[0;34m.\u001b[0m\u001b[0mload\u001b[0m\u001b[0;34m(\u001b[0m\u001b[0;34m'FlowNet_Mod.pth'\u001b[0m\u001b[0;34m)\u001b[0m\u001b[0;34m)\u001b[0m\u001b[0;34m\u001b[0m\u001b[0;34m\u001b[0m\u001b[0m\n\u001b[0m",
            "\u001b[0;31mNameError\u001b[0m: name 'model' is not defined"
          ]
        }
      ]
    },
    {
      "cell_type": "code",
      "source": [
        "k=0\n",
        "dir='/content/Input2/Training/Video_012'\n",
        "path='/content/Testing_Input'\n",
        "#os.mkdir(path)\n",
        "root=dir\n",
        "list_path = [os.path.join(root, file) for file in sorted(os.listdir(root))]\n",
        "for i in range(len(list_path)):\n",
        "  filename = 'Input_%06d' % (k)\n",
        "  img=Stack(list_path,i)\n",
        "  name=os.path.join(path,filename)\n",
        "  np.save(name,img)\n",
        "  k=k+1"
      ],
      "metadata": {
        "id": "b7n7Kt4NYJel"
      },
      "execution_count": 53,
      "outputs": []
    },
    {
      "cell_type": "code",
      "source": [
        "k=0\n",
        "dir='/content/Output2/Train/Video_012'\n",
        "path='/content/Test_Output'\n",
        "#os.mkdir(path)\n",
        "root=dir\n",
        "list_path = [os.path.join(root, file) for file in sorted(os.listdir(root))]\n",
        "for i in range(len(list_path)):\n",
        "  filename = 'Output_%06d' % (k)\n",
        "  u=Load(list_path,i)\n",
        "  name=os.path.join(path,filename)\n",
        "  np.save(name,u)\n",
        "  k=k+1"
      ],
      "metadata": {
        "id": "Aiz8bgshVaD8"
      },
      "execution_count": 55,
      "outputs": []
    },
    {
      "cell_type": "code",
      "source": [
        "Input_dir='/content/Testing_Input'\n",
        "Output_dir='/content/Test_Output'\n",
        "\n",
        "test_input_files = [os.path.join(Input_dir, file) for file in sorted(os.listdir(Input_dir))]\n",
        "test_output_files = [os.path.join(Output_dir, file) for file in sorted(os.listdir(Output_dir))]"
      ],
      "metadata": {
        "id": "sATadKFdVekL"
      },
      "execution_count": 56,
      "outputs": []
    },
    {
      "cell_type": "code",
      "source": [
        "test_dataset = StackDataset(input= test_input_files, \n",
        "                       output= test_output_files, \n",
        "                       transform=ToTensor())"
      ],
      "metadata": {
        "id": "YxaEZ2EmYaIp"
      },
      "execution_count": 57,
      "outputs": []
    },
    {
      "cell_type": "code",
      "source": [
        "test_loader = DataDeviceLoader(DataLoader(test_dataset,batch_size*2),device)\n",
        "result = evaluate(model,test_loader)\n",
        "result"
      ],
      "metadata": {
        "colab": {
          "base_uri": "https://localhost:8080/"
        },
        "id": "gi2TK1kSWybc",
        "outputId": "b9654583-fb55-4e22-c97f-2dd6674798e5"
      },
      "execution_count": 58,
      "outputs": [
        {
          "output_type": "execute_result",
          "data": {
            "text/plain": [
              "{'val_loss': 72.54978287435456}"
            ]
          },
          "metadata": {},
          "execution_count": 58
        }
      ]
    },
    {
      "cell_type": "code",
      "source": [
        "output = []\n",
        "for i in range(len(test_dataset)):\n",
        "  input,_ = test_dataset[i]\n",
        "  input = to_device(input,device)\n",
        "  yb=model(input.unsqueeze(0)).cpu().detach().numpy()\n",
        "  yb = np.mean(yb)\n",
        "  output.append(yb)\n",
        "\n",
        "print(len(output))"
      ],
      "metadata": {
        "colab": {
          "base_uri": "https://localhost:8080/"
        },
        "id": "vGL6pt3a8kG6",
        "outputId": "62fef657-f5e4-46be-f463-389b5b67672c"
      },
      "execution_count": 59,
      "outputs": [
        {
          "output_type": "stream",
          "name": "stdout",
          "text": [
            "34772\n"
          ]
        }
      ]
    },
    {
      "cell_type": "code",
      "source": [
        "disp_r = []\n",
        "for i in range(len(test_dataset)):\n",
        "  _,output_r = test_dataset[i]\n",
        "  yb = np.mean(output_r.cpu().detach().numpy())\n",
        "  disp_r.append(yb)\n",
        "\n",
        "print(len(disp_r))"
      ],
      "metadata": {
        "colab": {
          "base_uri": "https://localhost:8080/"
        },
        "id": "bxG7AfxweAvI",
        "outputId": "c64bb7d8-5210-4572-89a9-e5af34034bd4"
      },
      "execution_count": 60,
      "outputs": [
        {
          "output_type": "stream",
          "name": "stdout",
          "text": [
            "34772\n"
          ]
        }
      ]
    },
    {
      "cell_type": "code",
      "source": [
        "from statistics import mean\n",
        "pixel_res=36\n",
        "disp=[]\n",
        "mod_disp=[]\n",
        "for i in range(len(output)):\n",
        "    disp.append((output[i]))\n",
        "     \n",
        "disp=disp - mean(disp)\n",
        "disp_r=disp_r-mean(disp_r)\n",
        "plt.plot(disp)\n",
        "plt.plot(disp_r,'r')"
      ],
      "metadata": {
        "id": "PL7ezxKKBcE2",
        "colab": {
          "base_uri": "https://localhost:8080/",
          "height": 282
        },
        "outputId": "d855002d-aca8-426d-e40f-954377aac71f"
      },
      "execution_count": 63,
      "outputs": [
        {
          "output_type": "execute_result",
          "data": {
            "text/plain": [
              "[<matplotlib.lines.Line2D at 0x7fd6b415cc90>]"
            ]
          },
          "metadata": {},
          "execution_count": 63
        },
        {
          "output_type": "display_data",
          "data": {
            "text/plain": [
              "<Figure size 432x288 with 1 Axes>"
            ],
            "image/png": "[encoded data removed]"
          },
          "metadata": {
            "needs_background": "light"
          }
        }
      ]
    },
    {
      "cell_type": "code",
      "source": [
        "from scipy.fft import fft\n",
        "fs = 2142; \n",
        "X=list(disp)\n",
        "X.append([0]*200)\n",
        "time = (1/fs)*np.arange(0,len(disp)-1,1)\n",
        "f = fs*np.linspace(0,1,len(X));\n",
        "fft_X = (abs(fft(pixel_res*349*disp/1000,len(X))));\n",
        "plt.plot(f,fft_X)\n"
      ],
      "metadata": {
        "id": "NOU2K-oDC279",
        "colab": {
          "base_uri": "https://localhost:8080/",
          "height": 286
        },
        "outputId": "6316b985-424c-4f71-9bd8-f1c282648e68"
      },
      "execution_count": null,
      "outputs": [
        {
          "output_type": "execute_result",
          "data": {
            "text/plain": [
              "[<matplotlib.lines.Line2D at 0x7fa10c9d2250>]"
            ]
          },
          "metadata": {},
          "execution_count": 64
        },
        {
          "output_type": "display_data",
          "data": {
            "text/plain": [
              "<Figure size 432x288 with 1 Axes>"
            ],
            "image/png": "[encoded data removed]"
          },
          "metadata": {
            "needs_background": "light"
          }
        }
      ]
    },
    {
      "cell_type": "code",
      "source": [
        ""
      ],
      "metadata": {
        "id": "6mVBT6t2vau6"
      },
      "execution_count": null,
      "outputs": []
    },
    {
      "cell_type": "code",
      "source": [
        "torch.save(model.state_dict(),'subFlowNet.pth')"
      ],
      "metadata": {
        "id": "4v5PmK2SW1Kz"
      },
      "execution_count": null,
      "outputs": []
    },
    {
      "cell_type": "code",
      "source": [
        ""
      ],
      "metadata": {
        "id": "F3vs_MeZBBgL"
      },
      "execution_count": null,
      "outputs": []
    }
  ]
}